{
 "cells": [
  {
   "cell_type": "markdown",
   "id": "b0b24346-4264-4ddf-bebe-b61d8f0802d1",
   "metadata": {
    "tags": []
   },
   "source": [
    "# Data Science Tools and Ecosystem"
   ]
  },
  {
   "cell_type": "markdown",
   "id": "db48f976-ea08-40ba-a90f-94463c01703e",
   "metadata": {},
   "source": [
    "In this notebook, Data Science Tools and Ecosystem are summarized."
   ]
  },
  {
   "cell_type": "markdown",
   "id": "8f0d8984-6866-4676-93f3-45994065342b",
   "metadata": {},
   "source": [
    "**Objectives:**\n",
    "- List popular languages for Data Science\n",
    "- List commonly used libraries\n",
    "- List commonly used Data Science tools\n",
    "- Show some simple arithmetic code examples\n"
   ]
  },
  {
   "cell_type": "markdown",
   "id": "555d96ff-03dc-46bb-86c7-c0e01b324ad7",
   "metadata": {},
   "source": [
    "Some of the popular languages that Data Scientists use are:\n",
    "\n",
    "1. Python\n",
    "2. Java\n",
    "3. R"
   ]
  },
  {
   "cell_type": "markdown",
   "id": "d0450ad3-f3b9-4548-81ac-ac9cddf69e06",
   "metadata": {},
   "source": [
    "Some of the commonly used libraries used by Data Scientists include:\n",
    "\n",
    "1. Pandas\n",
    "2. Matplotlib\n",
    "3. SciPy\n",
    "4. NumPy"
   ]
  },
  {
   "cell_type": "markdown",
   "id": "68bf7884-4230-4f81-85cf-a00b9fc53bae",
   "metadata": {},
   "source": [
    "|Data Science Tools|\n",
    "|---|\n",
    "|Visual Studio Code|\n",
    "|Jupyter Notebooks|\n",
    "|JupyterLabs|\n",
    "|RStudio|"
   ]
  },
  {
   "cell_type": "markdown",
   "id": "492352e7-6c42-4da4-9f00-5ef845f6c0e9",
   "metadata": {},
   "source": [
    "### Below are a few examples of evaluating arithmetic expressions in Python."
   ]
  },
  {
   "cell_type": "code",
   "execution_count": 1,
   "id": "f09cf809-e5ec-412a-a319-0d6d3e43d201",
   "metadata": {
    "tags": []
   },
   "outputs": [
    {
     "data": {
      "text/plain": [
       "17"
      ]
     },
     "execution_count": 1,
     "metadata": {},
     "output_type": "execute_result"
    }
   ],
   "source": [
    "#This a simple arithmetic expression to mutiply then add integers.\n",
    "(3*4)+5"
   ]
  },
  {
   "cell_type": "code",
   "execution_count": 2,
   "id": "9c20457b-0108-4e43-8fd9-f4b33b05fb28",
   "metadata": {
    "tags": []
   },
   "outputs": [
    {
     "data": {
      "text/plain": [
       "3.3333333333333335"
      ]
     },
     "execution_count": 2,
     "metadata": {},
     "output_type": "execute_result"
    }
   ],
   "source": [
    "#This will convert 200 minutes to hours by diving by 60.\n",
    "200/60"
   ]
  },
  {
   "cell_type": "markdown",
   "id": "6b15b1b0-8639-407a-9657-a4fa2f6bd971",
   "metadata": {
    "tags": []
   },
   "source": [
    "## Author\n",
    "Jason McIntire"
   ]
  }
 ],
 "metadata": {
  "kernelspec": {
   "display_name": "Python",
   "language": "python",
   "name": "conda-env-python-py"
  },
  "language_info": {
   "codemirror_mode": {
    "name": "ipython",
    "version": 3
   },
   "file_extension": ".py",
   "mimetype": "text/x-python",
   "name": "python",
   "nbconvert_exporter": "python",
   "pygments_lexer": "ipython3",
   "version": "3.7.12"
  }
 },
 "nbformat": 4,
 "nbformat_minor": 5
}
